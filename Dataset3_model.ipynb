{
 "cells": [
  {
   "cell_type": "markdown",
   "metadata": {},
   "source": [
    "##### 1. Importing Important Libraries required for the preprocessing"
   ]
  },
  {
   "cell_type": "code",
   "execution_count": 1,
   "metadata": {},
   "outputs": [],
   "source": [
    "# !pip install textblob"
   ]
  },
  {
   "cell_type": "code",
   "execution_count": 2,
   "metadata": {},
   "outputs": [],
   "source": [
    "import numpy as np\n",
    "import pandas as pd\n",
    "import seaborn as sns\n",
    "import matplotlib.pyplot as plt\n",
    "import nltk\n",
    "from sklearn.feature_extraction.text import CountVectorizer\n",
    "from sklearn.feature_extraction.text import TfidfVectorizer\n",
    "from sklearn.preprocessing import LabelBinarizer\n",
    "from nltk.corpus import stopwords\n",
    "from nltk.stem.porter import PorterStemmer\n",
    "from wordcloud import WordCloud,STOPWORDS\n",
    "from nltk.stem import WordNetLemmatizer\n",
    "from nltk.tokenize import word_tokenize,sent_tokenize\n",
    "from bs4 import BeautifulSoup\n",
    "import spacy\n",
    "import re,string,unicodedata\n",
    "from nltk.tokenize.toktok import ToktokTokenizer\n",
    "from nltk.stem import LancasterStemmer,WordNetLemmatizer\n",
    "from sklearn.linear_model import LogisticRegression,SGDClassifier\n",
    "from sklearn.naive_bayes import MultinomialNB\n",
    "from sklearn.svm import SVC\n",
    "from textblob import TextBlob\n",
    "from textblob import Word\n",
    "from sklearn.metrics import classification_report,confusion_matrix,accuracy_score"
   ]
  },
  {
   "cell_type": "markdown",
   "metadata": {},
   "source": [
    "##### 2. Loading the CSV into a pandas dataframe and reviewing the data"
   ]
  },
  {
   "cell_type": "code",
   "execution_count": 3,
   "metadata": {},
   "outputs": [
    {
     "data": {
      "text/html": [
       "<div>\n",
       "<style scoped>\n",
       "    .dataframe tbody tr th:only-of-type {\n",
       "        vertical-align: middle;\n",
       "    }\n",
       "\n",
       "    .dataframe tbody tr th {\n",
       "        vertical-align: top;\n",
       "    }\n",
       "\n",
       "    .dataframe thead th {\n",
       "        text-align: right;\n",
       "    }\n",
       "</style>\n",
       "<table border=\"1\" class=\"dataframe\">\n",
       "  <thead>\n",
       "    <tr style=\"text-align: right;\">\n",
       "      <th></th>\n",
       "      <th>label</th>\n",
       "      <th>sentence</th>\n",
       "    </tr>\n",
       "  </thead>\n",
       "  <tbody>\n",
       "    <tr>\n",
       "      <th>0</th>\n",
       "      <td>0</td>\n",
       "      <td>As fabulous as Maleficent is to look at--and ...</td>\n",
       "    </tr>\n",
       "    <tr>\n",
       "      <th>1</th>\n",
       "      <td>0</td>\n",
       "      <td>Directed by Rob Reiner from a screenplay by J...</td>\n",
       "    </tr>\n",
       "    <tr>\n",
       "      <th>2</th>\n",
       "      <td>0</td>\n",
       "      <td>Parental Content Review</td>\n",
       "    </tr>\n",
       "    <tr>\n",
       "      <th>3</th>\n",
       "      <td>0</td>\n",
       "      <td>The movie's motives might be admirable, but i...</td>\n",
       "    </tr>\n",
       "    <tr>\n",
       "      <th>4</th>\n",
       "      <td>0</td>\n",
       "      <td>After a while, all these odious, yammering pe...</td>\n",
       "    </tr>\n",
       "    <tr>\n",
       "      <th>...</th>\n",
       "      <td>...</td>\n",
       "      <td>...</td>\n",
       "    </tr>\n",
       "    <tr>\n",
       "      <th>119998</th>\n",
       "      <td>0</td>\n",
       "      <td>Characterization and emotional investment, ho...</td>\n",
       "    </tr>\n",
       "    <tr>\n",
       "      <th>119999</th>\n",
       "      <td>1</td>\n",
       "      <td>Despite its lack of context and repetitive st...</td>\n",
       "    </tr>\n",
       "    <tr>\n",
       "      <th>120000</th>\n",
       "      <td>0</td>\n",
       "      <td>How anyone else could sit through its 2 1/2 h...</td>\n",
       "    </tr>\n",
       "    <tr>\n",
       "      <th>120001</th>\n",
       "      <td>0</td>\n",
       "      <td>Resurrecting some dead characters from the pr...</td>\n",
       "    </tr>\n",
       "    <tr>\n",
       "      <th>120002</th>\n",
       "      <td>0</td>\n",
       "      <td>Resurrecting some dead characters from the pr...</td>\n",
       "    </tr>\n",
       "  </tbody>\n",
       "</table>\n",
       "<p>120003 rows × 2 columns</p>\n",
       "</div>"
      ],
      "text/plain": [
       "        label                                           sentence\n",
       "0           0   As fabulous as Maleficent is to look at--and ...\n",
       "1           0   Directed by Rob Reiner from a screenplay by J...\n",
       "2           0                            Parental Content Review\n",
       "3           0   The movie's motives might be admirable, but i...\n",
       "4           0   After a while, all these odious, yammering pe...\n",
       "...       ...                                                ...\n",
       "119998      0   Characterization and emotional investment, ho...\n",
       "119999      1   Despite its lack of context and repetitive st...\n",
       "120000      0   How anyone else could sit through its 2 1/2 h...\n",
       "120001      0   Resurrecting some dead characters from the pr...\n",
       "120002      0   Resurrecting some dead characters from the pr...\n",
       "\n",
       "[120003 rows x 2 columns]"
      ]
     },
     "execution_count": 3,
     "metadata": {},
     "output_type": "execute_result"
    }
   ],
   "source": [
    "sst_df = pd.read_csv(\"dataset3.csv\")\n",
    "\n",
    "sst_df"
   ]
  },
  {
   "cell_type": "markdown",
   "metadata": {},
   "source": [
    "##### 3. Checking the Data for any null values and removing them (if they exist)"
   ]
  },
  {
   "cell_type": "code",
   "execution_count": 4,
   "metadata": {},
   "outputs": [
    {
     "data": {
      "text/plain": [
       "label       0\n",
       "sentence    0\n",
       "dtype: int64"
      ]
     },
     "execution_count": 4,
     "metadata": {},
     "output_type": "execute_result"
    }
   ],
   "source": [
    "sst_df.isnull().sum()"
   ]
  },
  {
   "cell_type": "markdown",
   "metadata": {},
   "source": [
    "##### 4. Checking the Data for duplicate rows"
   ]
  },
  {
   "cell_type": "code",
   "execution_count": 5,
   "metadata": {},
   "outputs": [
    {
     "data": {
      "text/plain": [
       "10645"
      ]
     },
     "execution_count": 5,
     "metadata": {},
     "output_type": "execute_result"
    }
   ],
   "source": [
    "sst_df.duplicated(keep=\"first\").sum()"
   ]
  },
  {
   "cell_type": "markdown",
   "metadata": {},
   "source": [
    "##### 5. Removing the duplicates from the dataframe"
   ]
  },
  {
   "cell_type": "code",
   "execution_count": 6,
   "metadata": {},
   "outputs": [
    {
     "data": {
      "text/plain": [
       "0"
      ]
     },
     "execution_count": 6,
     "metadata": {},
     "output_type": "execute_result"
    }
   ],
   "source": [
    "\n",
    "sst_df = sst_df.drop_duplicates(keep='first')\n",
    "\n",
    "sst_df.duplicated(keep=\"first\").sum()"
   ]
  },
  {
   "cell_type": "markdown",
   "metadata": {},
   "source": [
    "##### 6. Resetting the indices"
   ]
  },
  {
   "cell_type": "code",
   "execution_count": 7,
   "metadata": {},
   "outputs": [
    {
     "data": {
      "text/html": [
       "<div>\n",
       "<style scoped>\n",
       "    .dataframe tbody tr th:only-of-type {\n",
       "        vertical-align: middle;\n",
       "    }\n",
       "\n",
       "    .dataframe tbody tr th {\n",
       "        vertical-align: top;\n",
       "    }\n",
       "\n",
       "    .dataframe thead th {\n",
       "        text-align: right;\n",
       "    }\n",
       "</style>\n",
       "<table border=\"1\" class=\"dataframe\">\n",
       "  <thead>\n",
       "    <tr style=\"text-align: right;\">\n",
       "      <th></th>\n",
       "      <th>label</th>\n",
       "      <th>sentence</th>\n",
       "    </tr>\n",
       "  </thead>\n",
       "  <tbody>\n",
       "    <tr>\n",
       "      <th>0</th>\n",
       "      <td>0</td>\n",
       "      <td>As fabulous as Maleficent is to look at--and ...</td>\n",
       "    </tr>\n",
       "    <tr>\n",
       "      <th>1</th>\n",
       "      <td>0</td>\n",
       "      <td>Directed by Rob Reiner from a screenplay by J...</td>\n",
       "    </tr>\n",
       "    <tr>\n",
       "      <th>2</th>\n",
       "      <td>0</td>\n",
       "      <td>Parental Content Review</td>\n",
       "    </tr>\n",
       "    <tr>\n",
       "      <th>3</th>\n",
       "      <td>0</td>\n",
       "      <td>The movie's motives might be admirable, but i...</td>\n",
       "    </tr>\n",
       "    <tr>\n",
       "      <th>4</th>\n",
       "      <td>0</td>\n",
       "      <td>After a while, all these odious, yammering pe...</td>\n",
       "    </tr>\n",
       "    <tr>\n",
       "      <th>...</th>\n",
       "      <td>...</td>\n",
       "      <td>...</td>\n",
       "    </tr>\n",
       "    <tr>\n",
       "      <th>109353</th>\n",
       "      <td>1</td>\n",
       "      <td>This movie works beyond just a modern-day fai...</td>\n",
       "    </tr>\n",
       "    <tr>\n",
       "      <th>109354</th>\n",
       "      <td>1</td>\n",
       "      <td>There's nothing surprising in the film's aest...</td>\n",
       "    </tr>\n",
       "    <tr>\n",
       "      <th>109355</th>\n",
       "      <td>1</td>\n",
       "      <td>An iconic performance packaged in a film good...</td>\n",
       "    </tr>\n",
       "    <tr>\n",
       "      <th>109356</th>\n",
       "      <td>0</td>\n",
       "      <td>Characterization and emotional investment, ho...</td>\n",
       "    </tr>\n",
       "    <tr>\n",
       "      <th>109357</th>\n",
       "      <td>1</td>\n",
       "      <td>Despite its lack of context and repetitive st...</td>\n",
       "    </tr>\n",
       "  </tbody>\n",
       "</table>\n",
       "<p>109358 rows × 2 columns</p>\n",
       "</div>"
      ],
      "text/plain": [
       "        label                                           sentence\n",
       "0           0   As fabulous as Maleficent is to look at--and ...\n",
       "1           0   Directed by Rob Reiner from a screenplay by J...\n",
       "2           0                            Parental Content Review\n",
       "3           0   The movie's motives might be admirable, but i...\n",
       "4           0   After a while, all these odious, yammering pe...\n",
       "...       ...                                                ...\n",
       "109353      1   This movie works beyond just a modern-day fai...\n",
       "109354      1   There's nothing surprising in the film's aest...\n",
       "109355      1   An iconic performance packaged in a film good...\n",
       "109356      0   Characterization and emotional investment, ho...\n",
       "109357      1   Despite its lack of context and repetitive st...\n",
       "\n",
       "[109358 rows x 2 columns]"
      ]
     },
     "execution_count": 7,
     "metadata": {},
     "output_type": "execute_result"
    }
   ],
   "source": [
    "sst_df = sst_df.reset_index(drop=True)\n",
    "\n",
    "sst_df"
   ]
  },
  {
   "cell_type": "markdown",
   "metadata": {},
   "source": [
    "##### 7. Pre-processing Step 1: Convert all reviews to lower case for uniformity"
   ]
  },
  {
   "cell_type": "code",
   "execution_count": 8,
   "metadata": {
    "scrolled": true
   },
   "outputs": [
    {
     "data": {
      "text/html": [
       "<div>\n",
       "<style scoped>\n",
       "    .dataframe tbody tr th:only-of-type {\n",
       "        vertical-align: middle;\n",
       "    }\n",
       "\n",
       "    .dataframe tbody tr th {\n",
       "        vertical-align: top;\n",
       "    }\n",
       "\n",
       "    .dataframe thead th {\n",
       "        text-align: right;\n",
       "    }\n",
       "</style>\n",
       "<table border=\"1\" class=\"dataframe\">\n",
       "  <thead>\n",
       "    <tr style=\"text-align: right;\">\n",
       "      <th></th>\n",
       "      <th>label</th>\n",
       "      <th>sentence</th>\n",
       "    </tr>\n",
       "  </thead>\n",
       "  <tbody>\n",
       "    <tr>\n",
       "      <th>0</th>\n",
       "      <td>0</td>\n",
       "      <td>as fabulous as maleficent is to look at--and ...</td>\n",
       "    </tr>\n",
       "    <tr>\n",
       "      <th>1</th>\n",
       "      <td>0</td>\n",
       "      <td>directed by rob reiner from a screenplay by j...</td>\n",
       "    </tr>\n",
       "    <tr>\n",
       "      <th>2</th>\n",
       "      <td>0</td>\n",
       "      <td>parental content review</td>\n",
       "    </tr>\n",
       "    <tr>\n",
       "      <th>3</th>\n",
       "      <td>0</td>\n",
       "      <td>the movie's motives might be admirable, but i...</td>\n",
       "    </tr>\n",
       "    <tr>\n",
       "      <th>4</th>\n",
       "      <td>0</td>\n",
       "      <td>after a while, all these odious, yammering pe...</td>\n",
       "    </tr>\n",
       "    <tr>\n",
       "      <th>...</th>\n",
       "      <td>...</td>\n",
       "      <td>...</td>\n",
       "    </tr>\n",
       "    <tr>\n",
       "      <th>109353</th>\n",
       "      <td>1</td>\n",
       "      <td>this movie works beyond just a modern-day fai...</td>\n",
       "    </tr>\n",
       "    <tr>\n",
       "      <th>109354</th>\n",
       "      <td>1</td>\n",
       "      <td>there's nothing surprising in the film's aest...</td>\n",
       "    </tr>\n",
       "    <tr>\n",
       "      <th>109355</th>\n",
       "      <td>1</td>\n",
       "      <td>an iconic performance packaged in a film good...</td>\n",
       "    </tr>\n",
       "    <tr>\n",
       "      <th>109356</th>\n",
       "      <td>0</td>\n",
       "      <td>characterization and emotional investment, ho...</td>\n",
       "    </tr>\n",
       "    <tr>\n",
       "      <th>109357</th>\n",
       "      <td>1</td>\n",
       "      <td>despite its lack of context and repetitive st...</td>\n",
       "    </tr>\n",
       "  </tbody>\n",
       "</table>\n",
       "<p>109358 rows × 2 columns</p>\n",
       "</div>"
      ],
      "text/plain": [
       "        label                                           sentence\n",
       "0           0   as fabulous as maleficent is to look at--and ...\n",
       "1           0   directed by rob reiner from a screenplay by j...\n",
       "2           0                            parental content review\n",
       "3           0   the movie's motives might be admirable, but i...\n",
       "4           0   after a while, all these odious, yammering pe...\n",
       "...       ...                                                ...\n",
       "109353      1   this movie works beyond just a modern-day fai...\n",
       "109354      1   there's nothing surprising in the film's aest...\n",
       "109355      1   an iconic performance packaged in a film good...\n",
       "109356      0   characterization and emotional investment, ho...\n",
       "109357      1   despite its lack of context and repetitive st...\n",
       "\n",
       "[109358 rows x 2 columns]"
      ]
     },
     "execution_count": 8,
     "metadata": {},
     "output_type": "execute_result"
    }
   ],
   "source": [
    "sst_df = sst_df.applymap(lambda s:s.lower() if isinstance(s, str) else s)\n",
    "sst_df"
   ]
  },
  {
   "cell_type": "markdown",
   "metadata": {},
   "source": [
    "##### 8. Pre-processing Step 2: Text Normalization"
   ]
  },
  {
   "cell_type": "code",
   "execution_count": 9,
   "metadata": {},
   "outputs": [
    {
     "name": "stderr",
     "output_type": "stream",
     "text": [
      "[nltk_data] Downloading package stopwords to\n",
      "[nltk_data]     C:\\Users\\ACER\\AppData\\Roaming\\nltk_data...\n",
      "[nltk_data]   Package stopwords is already up-to-date!\n"
     ]
    }
   ],
   "source": [
    "# Tokenization of the text\n",
    "tokenizer = ToktokTokenizer()\n",
    "# Creating a list of English stopwords\n",
    "nltk.download('stopwords')\n",
    "stopword_list = nltk.corpus.stopwords.words('english')"
   ]
  },
  {
   "cell_type": "markdown",
   "metadata": {},
   "source": [
    "##### 9. Pre-processing Step 3: Removing stray html strips and textual noise"
   ]
  },
  {
   "cell_type": "code",
   "execution_count": 10,
   "metadata": {},
   "outputs": [
    {
     "name": "stderr",
     "output_type": "stream",
     "text": [
      "C:\\Users\\ACER\\anaconda3\\lib\\site-packages\\bs4\\__init__.py:435: MarkupResemblesLocatorWarning: The input looks more like a filename than markup. You may want to open this file and pass the filehandle into Beautiful Soup.\n",
      "  warnings.warn(\n"
     ]
    }
   ],
   "source": [
    "#Removing the html strips\n",
    "def strip_html(text):\n",
    "    soup = BeautifulSoup(text, \"html.parser\")\n",
    "    return soup.get_text()\n",
    "\n",
    "#Removing the square brackets\n",
    "def remove_between_square_brackets(text):\n",
    "    return re.sub('\\[[^]]*\\]', '', text)\n",
    "\n",
    "#Removing the noisy text\n",
    "def denoise_text(text):\n",
    "    text = strip_html(text)\n",
    "    text = remove_between_square_brackets(text)\n",
    "    return text\n",
    "\n",
    "#Applying function on review column\n",
    "sst_df['sentence'] = sst_df['sentence'].apply(denoise_text)"
   ]
  },
  {
   "cell_type": "markdown",
   "metadata": {},
   "source": [
    "##### 10. Pre-processing Step 4: Removing special characters from the text"
   ]
  },
  {
   "cell_type": "code",
   "execution_count": 11,
   "metadata": {},
   "outputs": [
    {
     "data": {
      "text/html": [
       "<div>\n",
       "<style scoped>\n",
       "    .dataframe tbody tr th:only-of-type {\n",
       "        vertical-align: middle;\n",
       "    }\n",
       "\n",
       "    .dataframe tbody tr th {\n",
       "        vertical-align: top;\n",
       "    }\n",
       "\n",
       "    .dataframe thead th {\n",
       "        text-align: right;\n",
       "    }\n",
       "</style>\n",
       "<table border=\"1\" class=\"dataframe\">\n",
       "  <thead>\n",
       "    <tr style=\"text-align: right;\">\n",
       "      <th></th>\n",
       "      <th>label</th>\n",
       "      <th>sentence</th>\n",
       "    </tr>\n",
       "  </thead>\n",
       "  <tbody>\n",
       "    <tr>\n",
       "      <th>0</th>\n",
       "      <td>0</td>\n",
       "      <td>as fabulous as maleficent is to look atand it...</td>\n",
       "    </tr>\n",
       "    <tr>\n",
       "      <th>1</th>\n",
       "      <td>0</td>\n",
       "      <td>directed by rob reiner from a screenplay by j...</td>\n",
       "    </tr>\n",
       "    <tr>\n",
       "      <th>2</th>\n",
       "      <td>0</td>\n",
       "      <td>parental content review</td>\n",
       "    </tr>\n",
       "    <tr>\n",
       "      <th>3</th>\n",
       "      <td>0</td>\n",
       "      <td>the movies motives might be admirable but its...</td>\n",
       "    </tr>\n",
       "    <tr>\n",
       "      <th>4</th>\n",
       "      <td>0</td>\n",
       "      <td>after a while all these odious yammering peop...</td>\n",
       "    </tr>\n",
       "    <tr>\n",
       "      <th>...</th>\n",
       "      <td>...</td>\n",
       "      <td>...</td>\n",
       "    </tr>\n",
       "    <tr>\n",
       "      <th>109353</th>\n",
       "      <td>1</td>\n",
       "      <td>this movie works beyond just a modernday fair...</td>\n",
       "    </tr>\n",
       "    <tr>\n",
       "      <th>109354</th>\n",
       "      <td>1</td>\n",
       "      <td>theres nothing surprising in the films aesthe...</td>\n",
       "    </tr>\n",
       "    <tr>\n",
       "      <th>109355</th>\n",
       "      <td>1</td>\n",
       "      <td>an iconic performance packaged in a film good...</td>\n",
       "    </tr>\n",
       "    <tr>\n",
       "      <th>109356</th>\n",
       "      <td>0</td>\n",
       "      <td>characterization and emotional investment how...</td>\n",
       "    </tr>\n",
       "    <tr>\n",
       "      <th>109357</th>\n",
       "      <td>1</td>\n",
       "      <td>despite its lack of context and repetitive st...</td>\n",
       "    </tr>\n",
       "  </tbody>\n",
       "</table>\n",
       "<p>109358 rows × 2 columns</p>\n",
       "</div>"
      ],
      "text/plain": [
       "        label                                           sentence\n",
       "0           0   as fabulous as maleficent is to look atand it...\n",
       "1           0   directed by rob reiner from a screenplay by j...\n",
       "2           0                            parental content review\n",
       "3           0   the movies motives might be admirable but its...\n",
       "4           0   after a while all these odious yammering peop...\n",
       "...       ...                                                ...\n",
       "109353      1   this movie works beyond just a modernday fair...\n",
       "109354      1   theres nothing surprising in the films aesthe...\n",
       "109355      1   an iconic performance packaged in a film good...\n",
       "109356      0   characterization and emotional investment how...\n",
       "109357      1   despite its lack of context and repetitive st...\n",
       "\n",
       "[109358 rows x 2 columns]"
      ]
     },
     "execution_count": 11,
     "metadata": {},
     "output_type": "execute_result"
    }
   ],
   "source": [
    "#Define function for removing special characters\n",
    "def remove_special_characters(text, remove_digits=True):\n",
    "    pattern=r'[^a-zA-z0-9\\s]'\n",
    "    text=re.sub(pattern,'',text)\n",
    "    return text\n",
    "\n",
    "#Apply function on review column\n",
    "sst_df['sentence'] = sst_df['sentence'].apply(remove_special_characters)\n",
    "sst_df"
   ]
  },
  {
   "cell_type": "markdown",
   "metadata": {},
   "source": [
    "##### 11. Pre-processing Step 5: Text Stemming"
   ]
  },
  {
   "cell_type": "code",
   "execution_count": 12,
   "metadata": {},
   "outputs": [
    {
     "data": {
      "text/html": [
       "<div>\n",
       "<style scoped>\n",
       "    .dataframe tbody tr th:only-of-type {\n",
       "        vertical-align: middle;\n",
       "    }\n",
       "\n",
       "    .dataframe tbody tr th {\n",
       "        vertical-align: top;\n",
       "    }\n",
       "\n",
       "    .dataframe thead th {\n",
       "        text-align: right;\n",
       "    }\n",
       "</style>\n",
       "<table border=\"1\" class=\"dataframe\">\n",
       "  <thead>\n",
       "    <tr style=\"text-align: right;\">\n",
       "      <th></th>\n",
       "      <th>label</th>\n",
       "      <th>sentence</th>\n",
       "    </tr>\n",
       "  </thead>\n",
       "  <tbody>\n",
       "    <tr>\n",
       "      <th>0</th>\n",
       "      <td>0</td>\n",
       "      <td>as fabul as malefic is to look atand it is fab...</td>\n",
       "    </tr>\n",
       "    <tr>\n",
       "      <th>1</th>\n",
       "      <td>0</td>\n",
       "      <td>direct by rob reiner from a screenplay by joey...</td>\n",
       "    </tr>\n",
       "    <tr>\n",
       "      <th>2</th>\n",
       "      <td>0</td>\n",
       "      <td>parent content review</td>\n",
       "    </tr>\n",
       "    <tr>\n",
       "      <th>3</th>\n",
       "      <td>0</td>\n",
       "      <td>the movi motiv might be admir but it execut is...</td>\n",
       "    </tr>\n",
       "    <tr>\n",
       "      <th>4</th>\n",
       "      <td>0</td>\n",
       "      <td>after a while all these odiou yammer peopl sta...</td>\n",
       "    </tr>\n",
       "    <tr>\n",
       "      <th>...</th>\n",
       "      <td>...</td>\n",
       "      <td>...</td>\n",
       "    </tr>\n",
       "    <tr>\n",
       "      <th>109353</th>\n",
       "      <td>1</td>\n",
       "      <td>thi movi work beyond just a modernday fairi tale</td>\n",
       "    </tr>\n",
       "    <tr>\n",
       "      <th>109354</th>\n",
       "      <td>1</td>\n",
       "      <td>there noth surpris in the film aesthet but it ...</td>\n",
       "    </tr>\n",
       "    <tr>\n",
       "      <th>109355</th>\n",
       "      <td>1</td>\n",
       "      <td>an icon perform packag in a film good enough t...</td>\n",
       "    </tr>\n",
       "    <tr>\n",
       "      <th>109356</th>\n",
       "      <td>0</td>\n",
       "      <td>character and emot invest howev are in disappo...</td>\n",
       "    </tr>\n",
       "    <tr>\n",
       "      <th>109357</th>\n",
       "      <td>1</td>\n",
       "      <td>despit it lack of context and repetit structur...</td>\n",
       "    </tr>\n",
       "  </tbody>\n",
       "</table>\n",
       "<p>109358 rows × 2 columns</p>\n",
       "</div>"
      ],
      "text/plain": [
       "        label                                           sentence\n",
       "0           0  as fabul as malefic is to look atand it is fab...\n",
       "1           0  direct by rob reiner from a screenplay by joey...\n",
       "2           0                              parent content review\n",
       "3           0  the movi motiv might be admir but it execut is...\n",
       "4           0  after a while all these odiou yammer peopl sta...\n",
       "...       ...                                                ...\n",
       "109353      1   thi movi work beyond just a modernday fairi tale\n",
       "109354      1  there noth surpris in the film aesthet but it ...\n",
       "109355      1  an icon perform packag in a film good enough t...\n",
       "109356      0  character and emot invest howev are in disappo...\n",
       "109357      1  despit it lack of context and repetit structur...\n",
       "\n",
       "[109358 rows x 2 columns]"
      ]
     },
     "execution_count": 12,
     "metadata": {},
     "output_type": "execute_result"
    }
   ],
   "source": [
    "#Stemming the text\n",
    "def simple_stemmer(text):\n",
    "    ps=nltk.porter.PorterStemmer()\n",
    "    text= ' '.join([ps.stem(word) for word in text.split()])\n",
    "    return text\n",
    "\n",
    "#Apply function on review column\n",
    "sst_df['sentence'] = sst_df['sentence'].apply(simple_stemmer)\n",
    "sst_df"
   ]
  },
  {
   "cell_type": "markdown",
   "metadata": {},
   "source": [
    "##### 12. Pre-processing Step 6: Stopword Removal"
   ]
  },
  {
   "cell_type": "code",
   "execution_count": 13,
   "metadata": {},
   "outputs": [
    {
     "name": "stdout",
     "output_type": "stream",
     "text": [
      "{'theirs', 'about', 'that', 'don', 'is', \"needn't\", 'as', 'what', \"should've\", 'and', 'this', 'does', 'here', \"couldn't\", 'hasn', 'whom', 'she', 'very', 'all', 'me', 'herself', \"isn't\", 'for', 're', 'ain', 'ma', \"weren't\", 'his', 'own', 'am', 'through', 'when', 'with', 'aren', \"hadn't\", \"that'll\", 'if', 'than', 'against', 'until', 'these', 'after', \"you're\", \"haven't\", 'the', 'they', 'myself', 'my', 'them', 'once', 'mustn', 'your', 'has', \"it's\", 't', 'ourselves', 'from', 'out', 'mightn', 'd', 'll', 'couldn', 'up', 'under', 'her', 'its', 'while', 'wouldn', 'do', 'who', 'down', 'into', \"you'd\", 'shouldn', 'yourselves', 'you', 'needn', 'to', 'o', 'were', 'below', 'during', 'have', 'doing', 'which', 'too', \"won't\", \"hasn't\", 'weren', 'being', 'at', 'by', 'both', 'ours', 'then', 'hadn', 'it', 'shan', 'few', 'between', 'didn', 'in', \"wasn't\", 'there', 'should', 'not', 'having', 'himself', 'hers', 'most', 'i', \"aren't\", 'won', 'isn', 'such', 'm', 'off', 'an', 'each', \"shouldn't\", \"don't\", 'our', \"mustn't\", 'but', \"mightn't\", 'before', 'be', 'had', 'where', 'yours', 'or', 'itself', 'any', 'just', \"wouldn't\", \"you'll\", 'more', 'yourself', \"she's\", 'him', 'because', 'their', 'above', 'we', 's', 've', 'other', 'now', 'y', \"you've\", 'why', 'of', 'can', \"didn't\", 'wasn', 'doesn', 'no', 'will', 'on', 'only', 'he', 'did', \"shan't\", 'been', 'nor', 'those', 'themselves', 'was', \"doesn't\", 'are', 'further', 'again', 'some', 'how', 'so', 'a', 'haven', 'over', 'same'}\n"
     ]
    },
    {
     "data": {
      "text/html": [
       "<div>\n",
       "<style scoped>\n",
       "    .dataframe tbody tr th:only-of-type {\n",
       "        vertical-align: middle;\n",
       "    }\n",
       "\n",
       "    .dataframe tbody tr th {\n",
       "        vertical-align: top;\n",
       "    }\n",
       "\n",
       "    .dataframe thead th {\n",
       "        text-align: right;\n",
       "    }\n",
       "</style>\n",
       "<table border=\"1\" class=\"dataframe\">\n",
       "  <thead>\n",
       "    <tr style=\"text-align: right;\">\n",
       "      <th></th>\n",
       "      <th>label</th>\n",
       "      <th>sentence</th>\n",
       "    </tr>\n",
       "  </thead>\n",
       "  <tbody>\n",
       "    <tr>\n",
       "      <th>0</th>\n",
       "      <td>0</td>\n",
       "      <td>fabul malefic look atand fabulousth film sacri...</td>\n",
       "    </tr>\n",
       "    <tr>\n",
       "      <th>1</th>\n",
       "      <td>0</td>\n",
       "      <td>direct rob reiner screenplay joey hartston mov...</td>\n",
       "    </tr>\n",
       "    <tr>\n",
       "      <th>2</th>\n",
       "      <td>0</td>\n",
       "      <td>parent content review</td>\n",
       "    </tr>\n",
       "    <tr>\n",
       "      <th>3</th>\n",
       "      <td>0</td>\n",
       "      <td>movi motiv might admir execut bog impenetr old...</td>\n",
       "    </tr>\n",
       "    <tr>\n",
       "      <th>4</th>\n",
       "      <td>0</td>\n",
       "      <td>odiou yammer peopl start sound lot like charli...</td>\n",
       "    </tr>\n",
       "    <tr>\n",
       "      <th>...</th>\n",
       "      <td>...</td>\n",
       "      <td>...</td>\n",
       "    </tr>\n",
       "    <tr>\n",
       "      <th>109353</th>\n",
       "      <td>1</td>\n",
       "      <td>thi movi work beyond modernday fairi tale</td>\n",
       "    </tr>\n",
       "    <tr>\n",
       "      <th>109354</th>\n",
       "      <td>1</td>\n",
       "      <td>noth surpris film aesthet execut admir skill v...</td>\n",
       "    </tr>\n",
       "    <tr>\n",
       "      <th>109355</th>\n",
       "      <td>1</td>\n",
       "      <td>icon perform packag film good enough support</td>\n",
       "    </tr>\n",
       "    <tr>\n",
       "      <th>109356</th>\n",
       "      <td>0</td>\n",
       "      <td>character emot invest howev disappointingli sh...</td>\n",
       "    </tr>\n",
       "    <tr>\n",
       "      <th>109357</th>\n",
       "      <td>1</td>\n",
       "      <td>despit lack context repetit structur goe behin...</td>\n",
       "    </tr>\n",
       "  </tbody>\n",
       "</table>\n",
       "<p>109358 rows × 2 columns</p>\n",
       "</div>"
      ],
      "text/plain": [
       "        label                                           sentence\n",
       "0           0  fabul malefic look atand fabulousth film sacri...\n",
       "1           0  direct rob reiner screenplay joey hartston mov...\n",
       "2           0                              parent content review\n",
       "3           0  movi motiv might admir execut bog impenetr old...\n",
       "4           0  odiou yammer peopl start sound lot like charli...\n",
       "...       ...                                                ...\n",
       "109353      1          thi movi work beyond modernday fairi tale\n",
       "109354      1  noth surpris film aesthet execut admir skill v...\n",
       "109355      1       icon perform packag film good enough support\n",
       "109356      0  character emot invest howev disappointingli sh...\n",
       "109357      1  despit lack context repetit structur goe behin...\n",
       "\n",
       "[109358 rows x 2 columns]"
      ]
     },
     "execution_count": 13,
     "metadata": {},
     "output_type": "execute_result"
    }
   ],
   "source": [
    "#set stopwords to english\n",
    "stop = set(stopwords.words('english'))\n",
    "print(stop)\n",
    "\n",
    "#removing the stopwords\n",
    "def remove_stopwords(text, is_lower_case=False):\n",
    "    tokens = tokenizer.tokenize(text)\n",
    "    tokens = [token.strip() for token in tokens]\n",
    "    if is_lower_case:\n",
    "        filtered_tokens = [token for token in tokens if token not in stopword_list]\n",
    "    else:\n",
    "        filtered_tokens = [token for token in tokens if token.lower() not in stopword_list]\n",
    "    filtered_text = ' '.join(filtered_tokens)    \n",
    "    return filtered_text\n",
    "\n",
    "#Apply function on review column\n",
    "sst_df['sentence'] = sst_df['sentence'].apply(remove_stopwords)\n",
    "sst_df"
   ]
  },
  {
   "cell_type": "markdown",
   "metadata": {},
   "source": [
    "##### 13. Pre-processing Step 7: Performing the train-test split"
   ]
  },
  {
   "cell_type": "code",
   "execution_count": 14,
   "metadata": {},
   "outputs": [
    {
     "name": "stdout",
     "output_type": "stream",
     "text": [
      "      label                                           sentence\n",
      "0         0  fabul malefic look atand fabulousth film sacri...\n",
      "1         0  direct rob reiner screenplay joey hartston mov...\n",
      "2         0                              parent content review\n",
      "3         0  movi motiv might admir execut bog impenetr old...\n",
      "4         0  odiou yammer peopl start sound lot like charli...\n",
      "...     ...                                                ...\n",
      "5995      0                             parent would like love\n",
      "5996      0  movi constantli explain night shyamalan ladi w...\n",
      "5997      0  space us attempt take young love liter new hei...\n",
      "5998      1                     visual happi feet absolut amaz\n",
      "5999      1  kosinski person commit gorgeou artific abov co...\n",
      "\n",
      "[6000 rows x 2 columns]\n",
      "        label                                           sentence\n",
      "6000        1  visitor lowkey naturalist beauti observ charac...\n",
      "6001        1  bryan cranston shine thi remark true stori one...\n",
      "6002        0  okja admir tri pure fabl sweet stori crumbl va...\n",
      "6003        1  sentiment yet sharpli observ documentari rise ...\n",
      "6004        1  air fli friendli sky termin given hi style ton...\n",
      "...       ...                                                ...\n",
      "109353      1          thi movi work beyond modernday fairi tale\n",
      "109354      1  noth surpris film aesthet execut admir skill v...\n",
      "109355      1       icon perform packag film good enough support\n",
      "109356      0  character emot invest howev disappointingli sh...\n",
      "109357      1  despit lack context repetit structur goe behin...\n",
      "\n",
      "[103358 rows x 2 columns]\n"
     ]
    }
   ],
   "source": [
    "sst_df_train = sst_df[:6000]\n",
    "sst_df_test = sst_df[6000:]\n",
    "print(sst_df_train)\n",
    "print(sst_df_test)"
   ]
  },
  {
   "cell_type": "markdown",
   "metadata": {},
   "source": [
    "##### 14. Pre-processing Step 8: Vectorization using TfidfVectorizer"
   ]
  },
  {
   "cell_type": "code",
   "execution_count": 15,
   "metadata": {},
   "outputs": [
    {
     "name": "stdout",
     "output_type": "stream",
     "text": [
      "Tfidf_train: (6000, 128441)\n",
      "Tfidf_test: (103358, 128441)\n"
     ]
    }
   ],
   "source": [
    "n_train_reviews=sst_df_train.sentence\n",
    "n_test_reviews=sst_df_test.sentence\n",
    "\n",
    "#Tfidf vectorizer\n",
    "tv=TfidfVectorizer(min_df=0,max_df=1,use_idf=True,ngram_range=(1,3))\n",
    "#transformed train reviews\n",
    "tv_train_reviews=tv.fit_transform(n_train_reviews)\n",
    "#transformed test reviews\n",
    "tv_test_reviews=tv.transform(n_test_reviews)\n",
    "print('Tfidf_train:',tv_train_reviews.shape)\n",
    "print('Tfidf_test:',tv_test_reviews.shape)"
   ]
  },
  {
   "cell_type": "markdown",
   "metadata": {},
   "source": [
    "##### 15. Pre-processing Step 9: Labelling and Splitting the Sentiment Data"
   ]
  },
  {
   "cell_type": "code",
   "execution_count": 16,
   "metadata": {},
   "outputs": [
    {
     "name": "stdout",
     "output_type": "stream",
     "text": [
      "(109358, 1)\n",
      "[[0]\n",
      " [0]\n",
      " [0]\n",
      " ...\n",
      " [0]\n",
      " [1]\n",
      " [1]]\n",
      "[[1]\n",
      " [1]\n",
      " [0]\n",
      " ...\n",
      " [1]\n",
      " [0]\n",
      " [1]]\n"
     ]
    }
   ],
   "source": [
    "#labeling the sentient data\n",
    "lb=LabelBinarizer()\n",
    "#transformed sentiment data\n",
    "sst_sentiment_data=lb.fit_transform(sst_df['label'])\n",
    "print(sst_sentiment_data.shape)\n",
    "#Spliting the sentiment data\n",
    "train_sentiments=sst_sentiment_data[:40000]\n",
    "test_sentiments=sst_sentiment_data[40000:]\n",
    "print(train_sentiments)\n",
    "print(test_sentiments)"
   ]
  },
  {
   "cell_type": "markdown",
   "metadata": {},
   "source": [
    "##### 16. Data Visualization: Inspecting Percentages from the Pie Chart"
   ]
  },
  {
   "cell_type": "code",
   "execution_count": 17,
   "metadata": {},
   "outputs": [
    {
     "data": {
      "image/png": "[encoded data removed]",
      "text/plain": [
       "<Figure size 432x288 with 1 Axes>"
      ]
     },
     "metadata": {},
     "output_type": "display_data"
    }
   ],
   "source": [
    "nparr = np.array(list(sst_df['label'].value_counts()))\n",
    "sst_labels = ['Positive Reviews', 'Negative Reviews']\n",
    "plt.pie(nparr, labels=sst_labels, autopct='%1.3f%%', explode=[0.2, 0], shadow=True)\n",
    "plt.legend(title=\"Movie Review Polarity\", loc=\"lower left\")\n",
    "plt.show()"
   ]
  },
  {
   "cell_type": "markdown",
   "metadata": {},
   "source": [
    "From the above Pie chart, it can be inferred that the dataset is relatively balanced not if, slightly imbalanced\n",
    "\n",
    "Since the information provided is rather low regarding the sentiment, knowing the balance of the dataset should be enough to proceed onto the modelling"
   ]
  },
  {
   "cell_type": "markdown",
   "metadata": {},
   "source": [
    "##### 17. Saving the cleaned data"
   ]
  },
  {
   "cell_type": "code",
   "execution_count": 19,
   "metadata": {},
   "outputs": [],
   "source": [
    "#converting dataframe to a csv file\n",
    "sst_df.to_csv(\"dataset3_cleaned.csv\", index=False)"
   ]
  }
 ],
 "metadata": {
  "kernelspec": {
   "display_name": "Python 3 (ipykernel)",
   "language": "python",
   "name": "python3"
  },
  "language_info": {
   "codemirror_mode": {
    "name": "ipython",
    "version": 3
   },
   "file_extension": ".py",
   "mimetype": "text/x-python",
   "name": "python",
   "nbconvert_exporter": "python",
   "pygments_lexer": "ipython3",
   "version": "3.9.12"
  },
  "vscode": {
   "interpreter": {
    "hash": "aa9bb9b65c0fc44214a62673c74277de53d1eafc245a279c9f3f692b19346bb9"
   }
  }
 },
 "nbformat": 4,
 "nbformat_minor": 2
}
